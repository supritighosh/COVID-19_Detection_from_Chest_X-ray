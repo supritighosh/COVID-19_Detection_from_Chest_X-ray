{
 "cells": [
  {
   "cell_type": "code",
   "execution_count": 1,
   "metadata": {
    "_cell_guid": "b1076dfc-b9ad-4769-8c92-a6c4dae69d19",
    "_uuid": "8f2839f25d086af736a60e9eeb907d3b93b6e0e5",
    "execution": {
     "iopub.execute_input": "2021-01-24T22:07:04.813359Z",
     "iopub.status.busy": "2021-01-24T22:07:04.811912Z",
     "iopub.status.idle": "2021-01-24T22:07:07.285556Z",
     "shell.execute_reply": "2021-01-24T22:07:07.284750Z"
    },
    "papermill": {
     "duration": 2.490541,
     "end_time": "2021-01-24T22:07:07.285698",
     "exception": false,
     "start_time": "2021-01-24T22:07:04.795157",
     "status": "completed"
    },
    "tags": []
   },
   "outputs": [],
   "source": [
    "import numpy as np \n",
    "import pandas as pd\n",
    "\n",
    "import os\n",
    "for dirname, _, filenames in os.walk('./Dataset'):\n",
    "    for filename in filenames:\n",
    "        os.path.join(dirname, filename)"
   ]
  },
  {
   "cell_type": "code",
   "execution_count": 2,
   "metadata": {
    "execution": {
     "iopub.execute_input": "2021-01-24T22:07:07.314046Z",
     "iopub.status.busy": "2021-01-24T22:07:07.312840Z",
     "iopub.status.idle": "2021-01-24T22:07:07.317085Z",
     "shell.execute_reply": "2021-01-24T22:07:07.317544Z"
    },
    "papermill": {
     "duration": 0.020908,
     "end_time": "2021-01-24T22:07:07.317709",
     "exception": false,
     "start_time": "2021-01-24T22:07:07.296801",
     "status": "completed"
    },
    "tags": []
   },
   "outputs": [],
   "source": [
    "DATA_PATH = \"./Dataset/\"\n",
    "\n",
    "if not os.path.exists(DATA_PATH):\n",
    "    os.mkdir(DATA_PATH)\n",
    "#    print(\"Dataset folder created\")"
   ]
  },
  {
   "cell_type": "code",
   "execution_count": 3,
   "metadata": {
    "execution": {
     "iopub.execute_input": "2021-01-24T22:07:07.345178Z",
     "iopub.status.busy": "2021-01-24T22:07:07.344354Z",
     "iopub.status.idle": "2021-01-24T22:07:07.347103Z",
     "shell.execute_reply": "2021-01-24T22:07:07.346583Z"
    },
    "papermill": {
     "duration": 0.018161,
     "end_time": "2021-01-24T22:07:07.347237",
     "exception": false,
     "start_time": "2021-01-24T22:07:07.329076",
     "status": "completed"
    },
    "tags": []
   },
   "outputs": [],
   "source": [
    "TRAIN_PATH = \"./Dataset/train\"\n",
    "VAL_PATH = \"./Dataset/test\""
   ]
  },
  {
   "cell_type": "code",
   "execution_count": 4,
   "metadata": {
    "execution": {
     "iopub.execute_input": "2021-01-24T22:07:07.373209Z",
     "iopub.status.busy": "2021-01-24T22:07:07.372522Z",
     "iopub.status.idle": "2021-01-24T22:07:13.713036Z",
     "shell.execute_reply": "2021-01-24T22:07:13.713537Z"
    },
    "papermill": {
     "duration": 6.355193,
     "end_time": "2021-01-24T22:07:13.713706",
     "exception": false,
     "start_time": "2021-01-24T22:07:07.358513",
     "status": "completed"
    },
    "tags": []
   },
   "outputs": [],
   "source": [
    "import matplotlib.pyplot as plt\n",
    "import keras\n",
    "from keras.layers import *\n",
    "from keras.models import *\n",
    "from keras.preprocessing import image\n",
    "from keras.callbacks import EarlyStopping\n",
    "from keras.callbacks import ModelCheckpoint\n",
    "from keras.callbacks import LearningRateScheduler\n",
    "from keras.applications import VGG16\n"
   ]
  },
  {
   "cell_type": "code",
   "execution_count": 5,
   "metadata": {
    "execution": {
     "iopub.execute_input": "2021-01-24T22:07:13.742802Z",
     "iopub.status.busy": "2021-01-24T22:07:13.741822Z",
     "iopub.status.idle": "2021-01-24T22:07:13.744366Z",
     "shell.execute_reply": "2021-01-24T22:07:13.744865Z"
    },
    "papermill": {
     "duration": 0.019745,
     "end_time": "2021-01-24T22:07:13.745009",
     "exception": false,
     "start_time": "2021-01-24T22:07:13.725264",
     "status": "completed"
    },
    "tags": []
   },
   "outputs": [],
   "source": [
    "\n",
    "TRAIN_COVID_PATH = \"./Dataset/train/COVID19\"\n",
    "TRAIN_NORMAL_PATH = \"./Dataset/train/NORMAL\"\n",
    "TRAIN_PNE_PATH = \"./Dataset/train/PNEUMONIA\"\n",
    "\n",
    "\n",
    "VAL_NORMAL_PATH = \"./Dataset/test/NORMAL\"\n",
    "VAL_PNEU_PATH = \"./Dataset/test/PNEUMONIA\"\n",
    "VAL_COVID_PATH = \"./Dataset/test/COVID19\""
   ]
  },
  {
   "cell_type": "code",
   "execution_count": 6,
   "metadata": {
    "execution": {
     "iopub.execute_input": "2021-01-24T22:07:13.775299Z",
     "iopub.status.busy": "2021-01-24T22:07:13.774646Z",
     "iopub.status.idle": "2021-01-24T22:07:13.999573Z",
     "shell.execute_reply": "2021-01-24T22:07:14.000612Z"
    },
    "papermill": {
     "duration": 0.24416,
     "end_time": "2021-01-24T22:07:14.000826",
     "exception": false,
     "start_time": "2021-01-24T22:07:13.756666",
     "status": "completed"
    },
    "tags": []
   },
   "outputs": [
    {
     "name": "stdout",
     "output_type": "stream",
     "text": [
      "Found 5144 images belonging to 3 classes.\n"
     ]
    }
   ],
   "source": [
    "train_datagen = image.ImageDataGenerator(\n",
    "    rescale = 1./255,\n",
    "   # shear_range = 0.2,\n",
    "   # zoom_range = 0.2,\n",
    "    #horizontal_flip = True,\n",
    ")\n",
    "test_datagen = image.ImageDataGenerator(rescale = 1./255)\n",
    "\n",
    "train_generator = train_datagen.flow_from_directory(\n",
    "    TRAIN_PATH,\n",
    "    target_size = (224,224),\n",
    "    batch_size = 32,\n",
    "    class_mode = 'categorical')"
   ]
  },
  {
   "cell_type": "code",
   "execution_count": 7,
   "metadata": {
    "execution": {
     "iopub.execute_input": "2021-01-24T22:07:14.033444Z",
     "iopub.status.busy": "2021-01-24T22:07:14.032469Z",
     "iopub.status.idle": "2021-01-24T22:07:14.037319Z",
     "shell.execute_reply": "2021-01-24T22:07:14.036698Z"
    },
    "papermill": {
     "duration": 0.023308,
     "end_time": "2021-01-24T22:07:14.037429",
     "exception": false,
     "start_time": "2021-01-24T22:07:14.014121",
     "status": "completed"
    },
    "tags": []
   },
   "outputs": [
    {
     "data": {
      "text/plain": [
       "{'COVID19': 0, 'NORMAL': 1, 'PNEUMONIA': 2}"
      ]
     },
     "execution_count": 7,
     "metadata": {},
     "output_type": "execute_result"
    }
   ],
   "source": [
    "train_generator.class_indices\n"
   ]
  },
  {
   "cell_type": "code",
   "execution_count": 8,
   "metadata": {
    "execution": {
     "iopub.execute_input": "2021-01-24T22:07:14.068088Z",
     "iopub.status.busy": "2021-01-24T22:07:14.067439Z",
     "iopub.status.idle": "2021-01-24T22:07:14.181449Z",
     "shell.execute_reply": "2021-01-24T22:07:14.180808Z"
    },
    "papermill": {
     "duration": 0.131493,
     "end_time": "2021-01-24T22:07:14.181569",
     "exception": false,
     "start_time": "2021-01-24T22:07:14.050076",
     "status": "completed"
    },
    "tags": []
   },
   "outputs": [
    {
     "name": "stdout",
     "output_type": "stream",
     "text": [
      "Found 1288 images belonging to 3 classes.\n"
     ]
    }
   ],
   "source": [
    "\n",
    "\n",
    "validation_generator = test_datagen.flow_from_directory(\n",
    "    VAL_PATH,\n",
    "    target_size = (224,224),\n",
    "    batch_size = 32,\n",
    "    class_mode = 'categorical')\n",
    "\n"
   ]
  },
  {
   "cell_type": "code",
   "execution_count": 9,
   "metadata": {
    "execution": {
     "iopub.execute_input": "2021-01-24T22:07:14.213501Z",
     "iopub.status.busy": "2021-01-24T22:07:14.212578Z",
     "iopub.status.idle": "2021-01-24T22:07:14.216123Z",
     "shell.execute_reply": "2021-01-24T22:07:14.215585Z"
    },
    "papermill": {
     "duration": 0.021162,
     "end_time": "2021-01-24T22:07:14.216242",
     "exception": false,
     "start_time": "2021-01-24T22:07:14.195080",
     "status": "completed"
    },
    "tags": []
   },
   "outputs": [],
   "source": [
    "epochs = 100\n",
    "stepsperepoch=9\n",
    "validationsteps=1"
   ]
  },
  {
   "cell_type": "code",
   "execution_count": 10,
   "metadata": {
    "execution": {
     "iopub.execute_input": "2021-01-24T22:07:14.249857Z",
     "iopub.status.busy": "2021-01-24T22:07:14.249163Z",
     "iopub.status.idle": "2021-01-24T22:07:14.252380Z",
     "shell.execute_reply": "2021-01-24T22:07:14.251848Z"
    },
    "papermill": {
     "duration": 0.022713,
     "end_time": "2021-01-24T22:07:14.252487",
     "exception": false,
     "start_time": "2021-01-24T22:07:14.229774",
     "status": "completed"
    },
    "tags": []
   },
   "outputs": [],
   "source": [
    "\n",
    "\n",
    "annealer = LearningRateScheduler(lambda x: 1e-3 * 0.95 ** x)\n",
    "\n",
    "es = EarlyStopping(monitor='val_acc', mode='max', verbose=1, patience=100)\n",
    "mc = ModelCheckpoint(\"own.h5\", monitor='val_loss',save_best_only=True, mode='min',verbose=1)\n",
    "\n"
   ]
  },
  {
   "cell_type": "code",
   "execution_count": 11,
   "metadata": {
    "execution": {
     "iopub.execute_input": "2021-01-24T22:07:14.282815Z",
     "iopub.status.busy": "2021-01-24T22:07:14.281789Z",
     "iopub.status.idle": "2021-01-24T22:07:15.605511Z",
     "shell.execute_reply": "2021-01-24T22:07:15.606014Z"
    },
    "papermill": {
     "duration": 1.340469,
     "end_time": "2021-01-24T22:07:15.606173",
     "exception": false,
     "start_time": "2021-01-24T22:07:14.265704",
     "status": "completed"
    },
    "tags": []
   },
   "outputs": [],
   "source": [
    "model = VGG16(\n",
    "    include_top=True,\n",
    "    weights=None,\n",
    "    input_tensor=None,\n",
    "    input_shape=None,\n",
    "    pooling=None,\n",
    "    classes=3,\n",
    "    classifier_activation=\"softmax\",\n",
    ")"
   ]
  },
  {
   "cell_type": "code",
   "execution_count": 12,
   "metadata": {
    "execution": {
     "iopub.execute_input": "2021-01-24T22:07:15.637900Z",
     "iopub.status.busy": "2021-01-24T22:07:15.636907Z",
     "iopub.status.idle": "2021-01-24T22:07:15.665658Z",
     "shell.execute_reply": "2021-01-24T22:07:15.664624Z"
    },
    "papermill": {
     "duration": 0.045683,
     "end_time": "2021-01-24T22:07:15.665872",
     "exception": false,
     "start_time": "2021-01-24T22:07:15.620189",
     "status": "completed"
    },
    "tags": []
   },
   "outputs": [
    {
     "name": "stdout",
     "output_type": "stream",
     "text": [
      "Model: \"vgg16\"\n",
      "_________________________________________________________________\n",
      "Layer (type)                 Output Shape              Param #   \n",
      "=================================================================\n",
      "input_1 (InputLayer)         [(None, 224, 224, 3)]     0         \n",
      "_________________________________________________________________\n",
      "block1_conv1 (Conv2D)        (None, 224, 224, 64)      1792      \n",
      "_________________________________________________________________\n",
      "block1_conv2 (Conv2D)        (None, 224, 224, 64)      36928     \n",
      "_________________________________________________________________\n",
      "block1_pool (MaxPooling2D)   (None, 112, 112, 64)      0         \n",
      "_________________________________________________________________\n",
      "block2_conv1 (Conv2D)        (None, 112, 112, 128)     73856     \n",
      "_________________________________________________________________\n",
      "block2_conv2 (Conv2D)        (None, 112, 112, 128)     147584    \n",
      "_________________________________________________________________\n",
      "block2_pool (MaxPooling2D)   (None, 56, 56, 128)       0         \n",
      "_________________________________________________________________\n",
      "block3_conv1 (Conv2D)        (None, 56, 56, 256)       295168    \n",
      "_________________________________________________________________\n",
      "block3_conv2 (Conv2D)        (None, 56, 56, 256)       590080    \n",
      "_________________________________________________________________\n",
      "block3_conv3 (Conv2D)        (None, 56, 56, 256)       590080    \n",
      "_________________________________________________________________\n",
      "block3_pool (MaxPooling2D)   (None, 28, 28, 256)       0         \n",
      "_________________________________________________________________\n",
      "block4_conv1 (Conv2D)        (None, 28, 28, 512)       1180160   \n",
      "_________________________________________________________________\n",
      "block4_conv2 (Conv2D)        (None, 28, 28, 512)       2359808   \n",
      "_________________________________________________________________\n",
      "block4_conv3 (Conv2D)        (None, 28, 28, 512)       2359808   \n",
      "_________________________________________________________________\n",
      "block4_pool (MaxPooling2D)   (None, 14, 14, 512)       0         \n",
      "_________________________________________________________________\n",
      "block5_conv1 (Conv2D)        (None, 14, 14, 512)       2359808   \n",
      "_________________________________________________________________\n",
      "block5_conv2 (Conv2D)        (None, 14, 14, 512)       2359808   \n",
      "_________________________________________________________________\n",
      "block5_conv3 (Conv2D)        (None, 14, 14, 512)       2359808   \n",
      "_________________________________________________________________\n",
      "block5_pool (MaxPooling2D)   (None, 7, 7, 512)         0         \n",
      "_________________________________________________________________\n",
      "flatten (Flatten)            (None, 25088)             0         \n",
      "_________________________________________________________________\n",
      "fc1 (Dense)                  (None, 4096)              102764544 \n",
      "_________________________________________________________________\n",
      "fc2 (Dense)                  (None, 4096)              16781312  \n",
      "_________________________________________________________________\n",
      "predictions (Dense)          (None, 3)                 12291     \n",
      "=================================================================\n",
      "Total params: 134,272,835\n",
      "Trainable params: 134,272,835\n",
      "Non-trainable params: 0\n",
      "_________________________________________________________________\n"
     ]
    }
   ],
   "source": [
    "model.compile(optimizer='adam', loss='categorical_crossentropy', metrics=['accuracy'])\n",
    "\n",
    "\n",
    "model.summary()"
   ]
  },
  {
   "cell_type": "code",
   "execution_count": 13,
   "metadata": {
    "execution": {
     "iopub.execute_input": "2021-01-24T22:07:15.700779Z",
     "iopub.status.busy": "2021-01-24T22:07:15.700082Z",
     "iopub.status.idle": "2021-01-25T06:22:08.329413Z",
     "shell.execute_reply": "2021-01-25T06:22:08.328770Z"
    },
    "papermill": {
     "duration": 29692.650751,
     "end_time": "2021-01-25T06:22:08.330969",
     "exception": false,
     "start_time": "2021-01-24T22:07:15.680218",
     "status": "completed"
    },
    "scrolled": true,
    "tags": []
   },
   "outputs": [
    {
     "name": "stderr",
     "output_type": "stream",
     "text": [
      "C:\\Users\\supriti.ghosh\\Anaconda3\\lib\\site-packages\\tensorflow\\python\\keras\\engine\\training.py:1844: UserWarning: `Model.fit_generator` is deprecated and will be removed in a future version. Please use `Model.fit`, which supports generators.\n",
      "  warnings.warn('`Model.fit_generator` is deprecated and '\n"
     ]
    },
    {
     "name": "stdout",
     "output_type": "stream",
     "text": [
      "Epoch 1/100\n",
      "9/9 [==============================] - 110s 12s/step - loss: 13.6621 - accuracy: 0.6246 - val_loss: 1.0416 - val_accuracy: 0.2812\n",
      "\n",
      "Epoch 00001: val_loss improved from inf to 1.04165, saving model to own.h5\n",
      "WARNING:tensorflow:Early stopping conditioned on metric `val_acc` which is not available. Available metrics are: loss,accuracy,val_loss,val_accuracy,lr\n",
      "Epoch 2/100\n",
      "9/9 [==============================] - 105s 12s/step - loss: 1.0405 - accuracy: 0.3730 - val_loss: 1.0068 - val_accuracy: 0.5938\n",
      "\n",
      "Epoch 00002: val_loss improved from 1.04165 to 1.00680, saving model to own.h5\n",
      "WARNING:tensorflow:Early stopping conditioned on metric `val_acc` which is not available. Available metrics are: loss,accuracy,val_loss,val_accuracy,lr\n",
      "Epoch 3/100\n",
      "9/9 [==============================] - 108s 12s/step - loss: 0.9304 - accuracy: 0.7099 - val_loss: 0.6771 - val_accuracy: 0.7500\n",
      "\n",
      "Epoch 00003: val_loss improved from 1.00680 to 0.67709, saving model to own.h5\n",
      "WARNING:tensorflow:Early stopping conditioned on metric `val_acc` which is not available. Available metrics are: loss,accuracy,val_loss,val_accuracy,lr\n",
      "Epoch 4/100\n",
      "9/9 [==============================] - 108s 12s/step - loss: 0.8841 - accuracy: 0.6337 - val_loss: 0.7912 - val_accuracy: 0.6875\n",
      "\n",
      "Epoch 00004: val_loss did not improve from 0.67709\n",
      "WARNING:tensorflow:Early stopping conditioned on metric `val_acc` which is not available. Available metrics are: loss,accuracy,val_loss,val_accuracy,lr\n",
      "Epoch 5/100\n",
      "9/9 [==============================] - 108s 12s/step - loss: 0.8969 - accuracy: 0.6079 - val_loss: 0.8453 - val_accuracy: 0.6250\n",
      "\n",
      "Epoch 00005: val_loss did not improve from 0.67709\n",
      "WARNING:tensorflow:Early stopping conditioned on metric `val_acc` which is not available. Available metrics are: loss,accuracy,val_loss,val_accuracy,lr\n",
      "Epoch 6/100\n",
      "9/9 [==============================] - 108s 12s/step - loss: 0.8293 - accuracy: 0.6874 - val_loss: 0.8515 - val_accuracy: 0.6875\n",
      "\n",
      "Epoch 00006: val_loss did not improve from 0.67709\n",
      "WARNING:tensorflow:Early stopping conditioned on metric `val_acc` which is not available. Available metrics are: loss,accuracy,val_loss,val_accuracy,lr\n",
      "Epoch 7/100\n",
      "9/9 [==============================] - 108s 12s/step - loss: 0.8686 - accuracy: 0.6461 - val_loss: 0.7734 - val_accuracy: 0.7188\n",
      "\n",
      "Epoch 00007: val_loss did not improve from 0.67709\n",
      "WARNING:tensorflow:Early stopping conditioned on metric `val_acc` which is not available. Available metrics are: loss,accuracy,val_loss,val_accuracy,lr\n",
      "Epoch 8/100\n",
      "9/9 [==============================] - 107s 12s/step - loss: 0.8382 - accuracy: 0.6699 - val_loss: 0.8116 - val_accuracy: 0.7500\n",
      "\n",
      "Epoch 00008: val_loss did not improve from 0.67709\n",
      "WARNING:tensorflow:Early stopping conditioned on metric `val_acc` which is not available. Available metrics are: loss,accuracy,val_loss,val_accuracy,lr\n",
      "Epoch 9/100\n",
      "9/9 [==============================] - 107s 12s/step - loss: 0.8717 - accuracy: 0.6223 - val_loss: 1.0477 - val_accuracy: 0.5625\n",
      "\n",
      "Epoch 00009: val_loss did not improve from 0.67709\n",
      "WARNING:tensorflow:Early stopping conditioned on metric `val_acc` which is not available. Available metrics are: loss,accuracy,val_loss,val_accuracy,lr\n",
      "Epoch 10/100\n",
      "9/9 [==============================] - 110s 12s/step - loss: 0.8271 - accuracy: 0.6725 - val_loss: 1.3039 - val_accuracy: 0.4062\n",
      "\n",
      "Epoch 00010: val_loss did not improve from 0.67709\n",
      "WARNING:tensorflow:Early stopping conditioned on metric `val_acc` which is not available. Available metrics are: loss,accuracy,val_loss,val_accuracy,lr\n",
      "Epoch 11/100\n",
      "9/9 [==============================] - 107s 12s/step - loss: 0.8792 - accuracy: 0.6134 - val_loss: 0.8621 - val_accuracy: 0.5938\n",
      "\n",
      "Epoch 00011: val_loss did not improve from 0.67709\n",
      "WARNING:tensorflow:Early stopping conditioned on metric `val_acc` which is not available. Available metrics are: loss,accuracy,val_loss,val_accuracy,lr\n",
      "Epoch 12/100\n",
      "9/9 [==============================] - 107s 12s/step - loss: 0.8322 - accuracy: 0.6788 - val_loss: 0.6973 - val_accuracy: 0.8125\n",
      "\n",
      "Epoch 00012: val_loss did not improve from 0.67709\n",
      "WARNING:tensorflow:Early stopping conditioned on metric `val_acc` which is not available. Available metrics are: loss,accuracy,val_loss,val_accuracy,lr\n",
      "Epoch 13/100\n",
      "9/9 [==============================] - 107s 12s/step - loss: 0.8622 - accuracy: 0.6640 - val_loss: 0.9320 - val_accuracy: 0.5312\n",
      "\n",
      "Epoch 00013: val_loss did not improve from 0.67709\n",
      "WARNING:tensorflow:Early stopping conditioned on metric `val_acc` which is not available. Available metrics are: loss,accuracy,val_loss,val_accuracy,lr\n",
      "Epoch 14/100\n",
      "9/9 [==============================] - 107s 12s/step - loss: 0.8655 - accuracy: 0.6448 - val_loss: 0.8612 - val_accuracy: 0.6250\n",
      "\n",
      "Epoch 00014: val_loss did not improve from 0.67709\n",
      "WARNING:tensorflow:Early stopping conditioned on metric `val_acc` which is not available. Available metrics are: loss,accuracy,val_loss,val_accuracy,lr\n",
      "Epoch 15/100\n",
      "9/9 [==============================] - 106s 12s/step - loss: 0.8186 - accuracy: 0.6719 - val_loss: 0.7852 - val_accuracy: 0.6875\n",
      "\n",
      "Epoch 00015: val_loss did not improve from 0.67709\n",
      "WARNING:tensorflow:Early stopping conditioned on metric `val_acc` which is not available. Available metrics are: loss,accuracy,val_loss,val_accuracy,lr\n",
      "Epoch 16/100\n",
      "9/9 [==============================] - 106s 12s/step - loss: 0.6825 - accuracy: 0.7531 - val_loss: 0.9696 - val_accuracy: 0.6250\n",
      "\n",
      "Epoch 00016: val_loss did not improve from 0.67709\n",
      "WARNING:tensorflow:Early stopping conditioned on metric `val_acc` which is not available. Available metrics are: loss,accuracy,val_loss,val_accuracy,lr\n",
      "Epoch 17/100\n",
      "9/9 [==============================] - 107s 12s/step - loss: 0.9184 - accuracy: 0.6193 - val_loss: 1.0123 - val_accuracy: 0.5625\n",
      "\n",
      "Epoch 00017: val_loss did not improve from 0.67709\n",
      "WARNING:tensorflow:Early stopping conditioned on metric `val_acc` which is not available. Available metrics are: loss,accuracy,val_loss,val_accuracy,lr\n",
      "Epoch 18/100\n",
      "9/9 [==============================] - 105s 12s/step - loss: 0.7811 - accuracy: 0.6936 - val_loss: 0.7481 - val_accuracy: 0.7812\n",
      "\n",
      "Epoch 00018: val_loss did not improve from 0.67709\n",
      "WARNING:tensorflow:Early stopping conditioned on metric `val_acc` which is not available. Available metrics are: loss,accuracy,val_loss,val_accuracy,lr\n",
      "Epoch 19/100\n",
      "9/9 [==============================] - 107s 12s/step - loss: 0.8089 - accuracy: 0.6701 - val_loss: 0.9648 - val_accuracy: 0.5312\n",
      "\n",
      "Epoch 00019: val_loss did not improve from 0.67709\n",
      "WARNING:tensorflow:Early stopping conditioned on metric `val_acc` which is not available. Available metrics are: loss,accuracy,val_loss,val_accuracy,lr\n",
      "Epoch 20/100\n",
      "9/9 [==============================] - 106s 12s/step - loss: 0.7652 - accuracy: 0.7051 - val_loss: 0.8144 - val_accuracy: 0.6562\n",
      "\n",
      "Epoch 00020: val_loss did not improve from 0.67709\n",
      "WARNING:tensorflow:Early stopping conditioned on metric `val_acc` which is not available. Available metrics are: loss,accuracy,val_loss,val_accuracy,lr\n",
      "Epoch 21/100\n",
      "9/9 [==============================] - 108s 12s/step - loss: 0.7527 - accuracy: 0.7242 - val_loss: 1.0833 - val_accuracy: 0.5625\n",
      "\n",
      "Epoch 00021: val_loss did not improve from 0.67709\n",
      "WARNING:tensorflow:Early stopping conditioned on metric `val_acc` which is not available. Available metrics are: loss,accuracy,val_loss,val_accuracy,lr\n",
      "Epoch 22/100\n",
      "9/9 [==============================] - 110s 12s/step - loss: 0.8307 - accuracy: 0.6710 - val_loss: 0.9785 - val_accuracy: 0.6562\n",
      "\n",
      "Epoch 00022: val_loss did not improve from 0.67709\n",
      "WARNING:tensorflow:Early stopping conditioned on metric `val_acc` which is not available. Available metrics are: loss,accuracy,val_loss,val_accuracy,lr\n",
      "Epoch 23/100\n",
      "9/9 [==============================] - 107s 12s/step - loss: 0.8530 - accuracy: 0.6399 - val_loss: 0.8453 - val_accuracy: 0.6562\n",
      "\n",
      "Epoch 00023: val_loss did not improve from 0.67709\n",
      "WARNING:tensorflow:Early stopping conditioned on metric `val_acc` which is not available. Available metrics are: loss,accuracy,val_loss,val_accuracy,lr\n",
      "Epoch 24/100\n",
      "9/9 [==============================] - 106s 12s/step - loss: 0.8116 - accuracy: 0.6736 - val_loss: 0.9367 - val_accuracy: 0.6250\n",
      "\n",
      "Epoch 00024: val_loss did not improve from 0.67709\n",
      "WARNING:tensorflow:Early stopping conditioned on metric `val_acc` which is not available. Available metrics are: loss,accuracy,val_loss,val_accuracy,lr\n"
     ]
    },
    {
     "name": "stdout",
     "output_type": "stream",
     "text": [
      "Epoch 25/100\n",
      "9/9 [==============================] - 107s 12s/step - loss: 0.8089 - accuracy: 0.6708 - val_loss: 0.8478 - val_accuracy: 0.6562\n",
      "\n",
      "Epoch 00025: val_loss did not improve from 0.67709\n",
      "WARNING:tensorflow:Early stopping conditioned on metric `val_acc` which is not available. Available metrics are: loss,accuracy,val_loss,val_accuracy,lr\n",
      "Epoch 26/100\n",
      "9/9 [==============================] - 113s 13s/step - loss: 0.8821 - accuracy: 0.6470 - val_loss: 0.8467 - val_accuracy: 0.6562\n",
      "\n",
      "Epoch 00026: val_loss did not improve from 0.67709\n",
      "WARNING:tensorflow:Early stopping conditioned on metric `val_acc` which is not available. Available metrics are: loss,accuracy,val_loss,val_accuracy,lr\n",
      "Epoch 27/100\n",
      "9/9 [==============================] - 110s 12s/step - loss: 0.8628 - accuracy: 0.6445 - val_loss: 1.1119 - val_accuracy: 0.4375\n",
      "\n",
      "Epoch 00027: val_loss did not improve from 0.67709\n",
      "WARNING:tensorflow:Early stopping conditioned on metric `val_acc` which is not available. Available metrics are: loss,accuracy,val_loss,val_accuracy,lr\n",
      "Epoch 28/100\n",
      "9/9 [==============================] - 107s 12s/step - loss: 0.7987 - accuracy: 0.6991 - val_loss: 0.7317 - val_accuracy: 0.7188\n",
      "\n",
      "Epoch 00028: val_loss did not improve from 0.67709\n",
      "WARNING:tensorflow:Early stopping conditioned on metric `val_acc` which is not available. Available metrics are: loss,accuracy,val_loss,val_accuracy,lr\n",
      "Epoch 29/100\n",
      "9/9 [==============================] - 107s 12s/step - loss: 0.8136 - accuracy: 0.6604 - val_loss: 0.8467 - val_accuracy: 0.6250\n",
      "\n",
      "Epoch 00029: val_loss did not improve from 0.67709\n",
      "WARNING:tensorflow:Early stopping conditioned on metric `val_acc` which is not available. Available metrics are: loss,accuracy,val_loss,val_accuracy,lr\n",
      "Epoch 30/100\n",
      "9/9 [==============================] - 106s 12s/step - loss: 0.7590 - accuracy: 0.7188 - val_loss: 0.9164 - val_accuracy: 0.5938\n",
      "\n",
      "Epoch 00030: val_loss did not improve from 0.67709\n",
      "WARNING:tensorflow:Early stopping conditioned on metric `val_acc` which is not available. Available metrics are: loss,accuracy,val_loss,val_accuracy,lr\n",
      "Epoch 31/100\n",
      "9/9 [==============================] - 106s 12s/step - loss: 0.8333 - accuracy: 0.6467 - val_loss: 0.7794 - val_accuracy: 0.7188\n",
      "\n",
      "Epoch 00031: val_loss did not improve from 0.67709\n",
      "WARNING:tensorflow:Early stopping conditioned on metric `val_acc` which is not available. Available metrics are: loss,accuracy,val_loss,val_accuracy,lr\n",
      "Epoch 32/100\n",
      "9/9 [==============================] - 107s 12s/step - loss: 0.7719 - accuracy: 0.6888 - val_loss: 1.0191 - val_accuracy: 0.5625\n",
      "\n",
      "Epoch 00032: val_loss did not improve from 0.67709\n",
      "WARNING:tensorflow:Early stopping conditioned on metric `val_acc` which is not available. Available metrics are: loss,accuracy,val_loss,val_accuracy,lr\n",
      "Epoch 33/100\n",
      "9/9 [==============================] - 107s 12s/step - loss: 0.7479 - accuracy: 0.7287 - val_loss: 0.9216 - val_accuracy: 0.6562\n",
      "\n",
      "Epoch 00033: val_loss did not improve from 0.67709\n",
      "WARNING:tensorflow:Early stopping conditioned on metric `val_acc` which is not available. Available metrics are: loss,accuracy,val_loss,val_accuracy,lr\n",
      "Epoch 34/100\n",
      "9/9 [==============================] - 107s 12s/step - loss: 0.8294 - accuracy: 0.6628 - val_loss: 0.6197 - val_accuracy: 0.8125\n",
      "\n",
      "Epoch 00034: val_loss improved from 0.67709 to 0.61966, saving model to own.h5\n",
      "WARNING:tensorflow:Early stopping conditioned on metric `val_acc` which is not available. Available metrics are: loss,accuracy,val_loss,val_accuracy,lr\n",
      "Epoch 35/100\n",
      "9/9 [==============================] - 107s 12s/step - loss: 0.8097 - accuracy: 0.6881 - val_loss: 0.7461 - val_accuracy: 0.6562\n",
      "\n",
      "Epoch 00035: val_loss did not improve from 0.61966\n",
      "WARNING:tensorflow:Early stopping conditioned on metric `val_acc` which is not available. Available metrics are: loss,accuracy,val_loss,val_accuracy,lr\n",
      "Epoch 36/100\n",
      "9/9 [==============================] - 106s 12s/step - loss: 0.8077 - accuracy: 0.6850 - val_loss: 0.7162 - val_accuracy: 0.7188\n",
      "\n",
      "Epoch 00036: val_loss did not improve from 0.61966\n",
      "WARNING:tensorflow:Early stopping conditioned on metric `val_acc` which is not available. Available metrics are: loss,accuracy,val_loss,val_accuracy,lr\n",
      "Epoch 37/100\n",
      "9/9 [==============================] - 107s 12s/step - loss: 0.7484 - accuracy: 0.7248 - val_loss: 0.7479 - val_accuracy: 0.7812\n",
      "\n",
      "Epoch 00037: val_loss did not improve from 0.61966\n",
      "WARNING:tensorflow:Early stopping conditioned on metric `val_acc` which is not available. Available metrics are: loss,accuracy,val_loss,val_accuracy,lr\n",
      "Epoch 38/100\n",
      "9/9 [==============================] - 106s 12s/step - loss: 0.8619 - accuracy: 0.6627 - val_loss: 0.8457 - val_accuracy: 0.5938\n",
      "\n",
      "Epoch 00038: val_loss did not improve from 0.61966\n",
      "WARNING:tensorflow:Early stopping conditioned on metric `val_acc` which is not available. Available metrics are: loss,accuracy,val_loss,val_accuracy,lr\n",
      "Epoch 39/100\n",
      "9/9 [==============================] - 107s 12s/step - loss: 0.8395 - accuracy: 0.6588 - val_loss: 0.8780 - val_accuracy: 0.6875\n",
      "\n",
      "Epoch 00039: val_loss did not improve from 0.61966\n",
      "WARNING:tensorflow:Early stopping conditioned on metric `val_acc` which is not available. Available metrics are: loss,accuracy,val_loss,val_accuracy,lr\n",
      "Epoch 40/100\n",
      "9/9 [==============================] - 107s 12s/step - loss: 0.8525 - accuracy: 0.6618 - val_loss: 0.8450 - val_accuracy: 0.6562\n",
      "\n",
      "Epoch 00040: val_loss did not improve from 0.61966\n",
      "WARNING:tensorflow:Early stopping conditioned on metric `val_acc` which is not available. Available metrics are: loss,accuracy,val_loss,val_accuracy,lr\n",
      "Epoch 41/100\n",
      "9/9 [==============================] - 106s 12s/step - loss: 0.8860 - accuracy: 0.6385 - val_loss: 0.8461 - val_accuracy: 0.6250\n",
      "\n",
      "Epoch 00041: val_loss did not improve from 0.61966\n",
      "WARNING:tensorflow:Early stopping conditioned on metric `val_acc` which is not available. Available metrics are: loss,accuracy,val_loss,val_accuracy,lr\n",
      "Epoch 42/100\n",
      "9/9 [==============================] - 107s 12s/step - loss: 0.7881 - accuracy: 0.7055 - val_loss: 0.8178 - val_accuracy: 0.6250\n",
      "\n",
      "Epoch 00042: val_loss did not improve from 0.61966\n",
      "WARNING:tensorflow:Early stopping conditioned on metric `val_acc` which is not available. Available metrics are: loss,accuracy,val_loss,val_accuracy,lr\n",
      "Epoch 43/100\n",
      "9/9 [==============================] - 106s 12s/step - loss: 0.8931 - accuracy: 0.6334 - val_loss: 0.8743 - val_accuracy: 0.6562\n",
      "\n",
      "Epoch 00043: val_loss did not improve from 0.61966\n",
      "WARNING:tensorflow:Early stopping conditioned on metric `val_acc` which is not available. Available metrics are: loss,accuracy,val_loss,val_accuracy,lr\n",
      "Epoch 44/100\n",
      "9/9 [==============================] - 142s 16s/step - loss: 0.8924 - accuracy: 0.6262 - val_loss: 0.8165 - val_accuracy: 0.6562\n",
      "\n",
      "Epoch 00044: val_loss did not improve from 0.61966\n",
      "WARNING:tensorflow:Early stopping conditioned on metric `val_acc` which is not available. Available metrics are: loss,accuracy,val_loss,val_accuracy,lr\n",
      "Epoch 45/100\n",
      "9/9 [==============================] - 129s 13s/step - loss: 0.8745 - accuracy: 0.6363 - val_loss: 0.9098 - val_accuracy: 0.5625\n",
      "\n",
      "Epoch 00045: val_loss did not improve from 0.61966\n",
      "WARNING:tensorflow:Early stopping conditioned on metric `val_acc` which is not available. Available metrics are: loss,accuracy,val_loss,val_accuracy,lr\n",
      "Epoch 46/100\n",
      "9/9 [==============================] - 120s 13s/step - loss: 0.8954 - accuracy: 0.6280 - val_loss: 0.7575 - val_accuracy: 0.6875\n",
      "\n",
      "Epoch 00046: val_loss did not improve from 0.61966\n",
      "WARNING:tensorflow:Early stopping conditioned on metric `val_acc` which is not available. Available metrics are: loss,accuracy,val_loss,val_accuracy,lr\n",
      "Epoch 47/100\n",
      "9/9 [==============================] - 121s 13s/step - loss: 0.8215 - accuracy: 0.6544 - val_loss: 0.7829 - val_accuracy: 0.7500\n",
      "\n",
      "Epoch 00047: val_loss did not improve from 0.61966\n",
      "WARNING:tensorflow:Early stopping conditioned on metric `val_acc` which is not available. Available metrics are: loss,accuracy,val_loss,val_accuracy,lr\n",
      "Epoch 48/100\n",
      "9/9 [==============================] - 116s 13s/step - loss: 0.8801 - accuracy: 0.6125 - val_loss: 0.7512 - val_accuracy: 0.7188\n",
      "\n",
      "Epoch 00048: val_loss did not improve from 0.61966\n",
      "WARNING:tensorflow:Early stopping conditioned on metric `val_acc` which is not available. Available metrics are: loss,accuracy,val_loss,val_accuracy,lr\n"
     ]
    },
    {
     "name": "stdout",
     "output_type": "stream",
     "text": [
      "Epoch 49/100\n",
      "9/9 [==============================] - 118s 13s/step - loss: 0.8011 - accuracy: 0.6741 - val_loss: 0.8761 - val_accuracy: 0.6250\n",
      "\n",
      "Epoch 00049: val_loss did not improve from 0.61966\n",
      "WARNING:tensorflow:Early stopping conditioned on metric `val_acc` which is not available. Available metrics are: loss,accuracy,val_loss,val_accuracy,lr\n",
      "Epoch 50/100\n",
      "9/9 [==============================] - 124s 14s/step - loss: 0.8228 - accuracy: 0.6987 - val_loss: 0.8441 - val_accuracy: 0.6250\n",
      "\n",
      "Epoch 00050: val_loss did not improve from 0.61966\n",
      "WARNING:tensorflow:Early stopping conditioned on metric `val_acc` which is not available. Available metrics are: loss,accuracy,val_loss,val_accuracy,lr\n",
      "Epoch 51/100\n",
      "9/9 [==============================] - 122s 13s/step - loss: 0.8527 - accuracy: 0.6515 - val_loss: 0.8140 - val_accuracy: 0.6875\n",
      "\n",
      "Epoch 00051: val_loss did not improve from 0.61966\n",
      "WARNING:tensorflow:Early stopping conditioned on metric `val_acc` which is not available. Available metrics are: loss,accuracy,val_loss,val_accuracy,lr\n",
      "Epoch 52/100\n",
      "9/9 [==============================] - 148s 15s/step - loss: 0.7982 - accuracy: 0.6816 - val_loss: 0.9146 - val_accuracy: 0.6875\n",
      "\n",
      "Epoch 00052: val_loss did not improve from 0.61966\n",
      "WARNING:tensorflow:Early stopping conditioned on metric `val_acc` which is not available. Available metrics are: loss,accuracy,val_loss,val_accuracy,lr\n",
      "Epoch 53/100\n",
      "9/9 [==============================] - 110s 12s/step - loss: 0.7770 - accuracy: 0.6839 - val_loss: 0.6525 - val_accuracy: 0.8125\n",
      "\n",
      "Epoch 00053: val_loss did not improve from 0.61966\n",
      "WARNING:tensorflow:Early stopping conditioned on metric `val_acc` which is not available. Available metrics are: loss,accuracy,val_loss,val_accuracy,lr\n",
      "Epoch 54/100\n",
      "9/9 [==============================] - 108s 12s/step - loss: 0.7812 - accuracy: 0.7143 - val_loss: 0.9142 - val_accuracy: 0.6250\n",
      "\n",
      "Epoch 00054: val_loss did not improve from 0.61966\n",
      "WARNING:tensorflow:Early stopping conditioned on metric `val_acc` which is not available. Available metrics are: loss,accuracy,val_loss,val_accuracy,lr\n",
      "Epoch 55/100\n",
      "9/9 [==============================] - 110s 12s/step - loss: 0.8711 - accuracy: 0.6465 - val_loss: 0.8124 - val_accuracy: 0.6562\n",
      "\n",
      "Epoch 00055: val_loss did not improve from 0.61966\n",
      "WARNING:tensorflow:Early stopping conditioned on metric `val_acc` which is not available. Available metrics are: loss,accuracy,val_loss,val_accuracy,lr\n",
      "Epoch 56/100\n",
      "9/9 [==============================] - 111s 12s/step - loss: 0.7837 - accuracy: 0.6887 - val_loss: 0.7140 - val_accuracy: 0.6875\n",
      "\n",
      "Epoch 00056: val_loss did not improve from 0.61966\n",
      "WARNING:tensorflow:Early stopping conditioned on metric `val_acc` which is not available. Available metrics are: loss,accuracy,val_loss,val_accuracy,lr\n",
      "Epoch 57/100\n",
      "9/9 [==============================] - 111s 12s/step - loss: 0.7889 - accuracy: 0.6916 - val_loss: 0.7804 - val_accuracy: 0.6875\n",
      "\n",
      "Epoch 00057: val_loss did not improve from 0.61966\n",
      "WARNING:tensorflow:Early stopping conditioned on metric `val_acc` which is not available. Available metrics are: loss,accuracy,val_loss,val_accuracy,lr\n",
      "Epoch 58/100\n",
      "9/9 [==============================] - 109s 12s/step - loss: 0.7969 - accuracy: 0.6585 - val_loss: 0.9445 - val_accuracy: 0.5938\n",
      "\n",
      "Epoch 00058: val_loss did not improve from 0.61966\n",
      "WARNING:tensorflow:Early stopping conditioned on metric `val_acc` which is not available. Available metrics are: loss,accuracy,val_loss,val_accuracy,lr\n",
      "Epoch 59/100\n",
      "9/9 [==============================] - 107s 12s/step - loss: 0.8362 - accuracy: 0.6817 - val_loss: 0.8783 - val_accuracy: 0.6250\n",
      "\n",
      "Epoch 00059: val_loss did not improve from 0.61966\n",
      "WARNING:tensorflow:Early stopping conditioned on metric `val_acc` which is not available. Available metrics are: loss,accuracy,val_loss,val_accuracy,lr\n",
      "Epoch 60/100\n",
      "9/9 [==============================] - 108s 12s/step - loss: 0.8286 - accuracy: 0.6766 - val_loss: 0.9788 - val_accuracy: 0.6250\n",
      "\n",
      "Epoch 00060: val_loss did not improve from 0.61966\n",
      "WARNING:tensorflow:Early stopping conditioned on metric `val_acc` which is not available. Available metrics are: loss,accuracy,val_loss,val_accuracy,lr\n",
      "Epoch 61/100\n",
      "9/9 [==============================] - 107s 12s/step - loss: 0.8424 - accuracy: 0.6233 - val_loss: 0.9728 - val_accuracy: 0.5625\n",
      "\n",
      "Epoch 00061: val_loss did not improve from 0.61966\n",
      "WARNING:tensorflow:Early stopping conditioned on metric `val_acc` which is not available. Available metrics are: loss,accuracy,val_loss,val_accuracy,lr\n",
      "Epoch 62/100\n",
      "9/9 [==============================] - 106s 12s/step - loss: 0.8285 - accuracy: 0.6452 - val_loss: 0.8146 - val_accuracy: 0.6875\n",
      "\n",
      "Epoch 00062: val_loss did not improve from 0.61966\n",
      "WARNING:tensorflow:Early stopping conditioned on metric `val_acc` which is not available. Available metrics are: loss,accuracy,val_loss,val_accuracy,lr\n",
      "Epoch 63/100\n",
      "9/9 [==============================] - 107s 12s/step - loss: 0.7913 - accuracy: 0.6677 - val_loss: 0.7249 - val_accuracy: 0.7812\n",
      "\n",
      "Epoch 00063: val_loss did not improve from 0.61966\n",
      "WARNING:tensorflow:Early stopping conditioned on metric `val_acc` which is not available. Available metrics are: loss,accuracy,val_loss,val_accuracy,lr\n",
      "Epoch 64/100\n",
      "9/9 [==============================] - 106s 12s/step - loss: 0.8005 - accuracy: 0.6914 - val_loss: 0.8006 - val_accuracy: 0.5938\n",
      "\n",
      "Epoch 00064: val_loss did not improve from 0.61966\n",
      "WARNING:tensorflow:Early stopping conditioned on metric `val_acc` which is not available. Available metrics are: loss,accuracy,val_loss,val_accuracy,lr\n",
      "Epoch 65/100\n",
      "9/9 [==============================] - 106s 12s/step - loss: 0.8824 - accuracy: 0.6299 - val_loss: 0.7697 - val_accuracy: 0.8125\n",
      "\n",
      "Epoch 00065: val_loss did not improve from 0.61966\n",
      "WARNING:tensorflow:Early stopping conditioned on metric `val_acc` which is not available. Available metrics are: loss,accuracy,val_loss,val_accuracy,lr\n",
      "Epoch 66/100\n",
      "9/9 [==============================] - 106s 12s/step - loss: 0.8283 - accuracy: 0.6725 - val_loss: 0.7345 - val_accuracy: 0.8125\n",
      "\n",
      "Epoch 00066: val_loss did not improve from 0.61966\n",
      "WARNING:tensorflow:Early stopping conditioned on metric `val_acc` which is not available. Available metrics are: loss,accuracy,val_loss,val_accuracy,lr\n",
      "Epoch 67/100\n",
      "9/9 [==============================] - 107s 12s/step - loss: 0.8006 - accuracy: 0.6907 - val_loss: 0.7817 - val_accuracy: 0.6875\n",
      "\n",
      "Epoch 00067: val_loss did not improve from 0.61966\n",
      "WARNING:tensorflow:Early stopping conditioned on metric `val_acc` which is not available. Available metrics are: loss,accuracy,val_loss,val_accuracy,lr\n",
      "Epoch 68/100\n",
      "9/9 [==============================] - 108s 12s/step - loss: 0.8460 - accuracy: 0.6684 - val_loss: 0.9636 - val_accuracy: 0.5312\n",
      "\n",
      "Epoch 00068: val_loss did not improve from 0.61966\n",
      "WARNING:tensorflow:Early stopping conditioned on metric `val_acc` which is not available. Available metrics are: loss,accuracy,val_loss,val_accuracy,lr\n",
      "Epoch 69/100\n",
      "9/9 [==============================] - 107s 12s/step - loss: 0.8435 - accuracy: 0.6650 - val_loss: 0.7144 - val_accuracy: 0.6875\n",
      "\n",
      "Epoch 00069: val_loss did not improve from 0.61966\n",
      "WARNING:tensorflow:Early stopping conditioned on metric `val_acc` which is not available. Available metrics are: loss,accuracy,val_loss,val_accuracy,lr\n",
      "Epoch 70/100\n",
      "9/9 [==============================] - 109s 12s/step - loss: 0.7850 - accuracy: 0.7021 - val_loss: 0.8452 - val_accuracy: 0.6562\n",
      "\n",
      "Epoch 00070: val_loss did not improve from 0.61966\n",
      "WARNING:tensorflow:Early stopping conditioned on metric `val_acc` which is not available. Available metrics are: loss,accuracy,val_loss,val_accuracy,lr\n",
      "Epoch 71/100\n",
      "9/9 [==============================] - 106s 12s/step - loss: 0.8342 - accuracy: 0.6513 - val_loss: 0.7850 - val_accuracy: 0.7188\n",
      "\n",
      "Epoch 00071: val_loss did not improve from 0.61966\n",
      "WARNING:tensorflow:Early stopping conditioned on metric `val_acc` which is not available. Available metrics are: loss,accuracy,val_loss,val_accuracy,lr\n",
      "Epoch 72/100\n",
      "9/9 [==============================] - 106s 12s/step - loss: 0.8421 - accuracy: 0.6826 - val_loss: 0.8179 - val_accuracy: 0.7188\n",
      "\n",
      "Epoch 00072: val_loss did not improve from 0.61966\n",
      "WARNING:tensorflow:Early stopping conditioned on metric `val_acc` which is not available. Available metrics are: loss,accuracy,val_loss,val_accuracy,lr\n"
     ]
    },
    {
     "name": "stdout",
     "output_type": "stream",
     "text": [
      "Epoch 73/100\n",
      "9/9 [==============================] - 107s 12s/step - loss: 0.8184 - accuracy: 0.6600 - val_loss: 0.6569 - val_accuracy: 0.7812\n",
      "\n",
      "Epoch 00073: val_loss did not improve from 0.61966\n",
      "WARNING:tensorflow:Early stopping conditioned on metric `val_acc` which is not available. Available metrics are: loss,accuracy,val_loss,val_accuracy,lr\n",
      "Epoch 74/100\n",
      "9/9 [==============================] - 106s 12s/step - loss: 0.8966 - accuracy: 0.6306 - val_loss: 0.7514 - val_accuracy: 0.7188\n",
      "\n",
      "Epoch 00074: val_loss did not improve from 0.61966\n",
      "WARNING:tensorflow:Early stopping conditioned on metric `val_acc` which is not available. Available metrics are: loss,accuracy,val_loss,val_accuracy,lr\n",
      "Epoch 75/100\n",
      "9/9 [==============================] - 107s 12s/step - loss: 0.8216 - accuracy: 0.6717 - val_loss: 0.7484 - val_accuracy: 0.6875\n",
      "\n",
      "Epoch 00075: val_loss did not improve from 0.61966\n",
      "WARNING:tensorflow:Early stopping conditioned on metric `val_acc` which is not available. Available metrics are: loss,accuracy,val_loss,val_accuracy,lr\n",
      "Epoch 76/100\n",
      "9/9 [==============================] - 107s 12s/step - loss: 0.7929 - accuracy: 0.6976 - val_loss: 0.7164 - val_accuracy: 0.7188\n",
      "\n",
      "Epoch 00076: val_loss did not improve from 0.61966\n",
      "WARNING:tensorflow:Early stopping conditioned on metric `val_acc` which is not available. Available metrics are: loss,accuracy,val_loss,val_accuracy,lr\n",
      "Epoch 77/100\n",
      "9/9 [==============================] - 107s 12s/step - loss: 0.8495 - accuracy: 0.6428 - val_loss: 0.6848 - val_accuracy: 0.7500\n",
      "\n",
      "Epoch 00077: val_loss did not improve from 0.61966\n",
      "WARNING:tensorflow:Early stopping conditioned on metric `val_acc` which is not available. Available metrics are: loss,accuracy,val_loss,val_accuracy,lr\n",
      "Epoch 78/100\n",
      "9/9 [==============================] - 106s 12s/step - loss: 0.8114 - accuracy: 0.6721 - val_loss: 0.8396 - val_accuracy: 0.5938\n",
      "\n",
      "Epoch 00078: val_loss did not improve from 0.61966\n",
      "WARNING:tensorflow:Early stopping conditioned on metric `val_acc` which is not available. Available metrics are: loss,accuracy,val_loss,val_accuracy,lr\n",
      "Epoch 79/100\n",
      "9/9 [==============================] - 106s 12s/step - loss: 0.8603 - accuracy: 0.6582 - val_loss: 0.6876 - val_accuracy: 0.7812\n",
      "\n",
      "Epoch 00079: val_loss did not improve from 0.61966\n",
      "WARNING:tensorflow:Early stopping conditioned on metric `val_acc` which is not available. Available metrics are: loss,accuracy,val_loss,val_accuracy,lr\n",
      "Epoch 80/100\n",
      "9/9 [==============================] - 123s 14s/step - loss: 0.8410 - accuracy: 0.6452 - val_loss: 0.8148 - val_accuracy: 0.6875\n",
      "\n",
      "Epoch 00080: val_loss did not improve from 0.61966\n",
      "WARNING:tensorflow:Early stopping conditioned on metric `val_acc` which is not available. Available metrics are: loss,accuracy,val_loss,val_accuracy,lr\n",
      "Epoch 81/100\n",
      "9/9 [==============================] - 108s 12s/step - loss: 0.8411 - accuracy: 0.6760 - val_loss: 0.9416 - val_accuracy: 0.5938\n",
      "\n",
      "Epoch 00081: val_loss did not improve from 0.61966\n",
      "WARNING:tensorflow:Early stopping conditioned on metric `val_acc` which is not available. Available metrics are: loss,accuracy,val_loss,val_accuracy,lr\n",
      "Epoch 82/100\n",
      "9/9 [==============================] - 109s 12s/step - loss: 0.8701 - accuracy: 0.6268 - val_loss: 0.9069 - val_accuracy: 0.5938\n",
      "\n",
      "Epoch 00082: val_loss did not improve from 0.61966\n",
      "WARNING:tensorflow:Early stopping conditioned on metric `val_acc` which is not available. Available metrics are: loss,accuracy,val_loss,val_accuracy,lr\n",
      "Epoch 83/100\n",
      "9/9 [==============================] - 109s 12s/step - loss: 0.7812 - accuracy: 0.6948 - val_loss: 0.8184 - val_accuracy: 0.7188\n",
      "\n",
      "Epoch 00083: val_loss did not improve from 0.61966\n",
      "WARNING:tensorflow:Early stopping conditioned on metric `val_acc` which is not available. Available metrics are: loss,accuracy,val_loss,val_accuracy,lr\n",
      "Epoch 84/100\n",
      "9/9 [==============================] - 108s 12s/step - loss: 0.8648 - accuracy: 0.6311 - val_loss: 0.8150 - val_accuracy: 0.6875\n",
      "\n",
      "Epoch 00084: val_loss did not improve from 0.61966\n",
      "WARNING:tensorflow:Early stopping conditioned on metric `val_acc` which is not available. Available metrics are: loss,accuracy,val_loss,val_accuracy,lr\n",
      "Epoch 85/100\n",
      "9/9 [==============================] - 107s 12s/step - loss: 0.7999 - accuracy: 0.6814 - val_loss: 0.8796 - val_accuracy: 0.6562\n",
      "\n",
      "Epoch 00085: val_loss did not improve from 0.61966\n",
      "WARNING:tensorflow:Early stopping conditioned on metric `val_acc` which is not available. Available metrics are: loss,accuracy,val_loss,val_accuracy,lr\n",
      "Epoch 86/100\n",
      "9/9 [==============================] - 107s 12s/step - loss: 0.7923 - accuracy: 0.6879 - val_loss: 0.6206 - val_accuracy: 0.7812\n",
      "\n",
      "Epoch 00086: val_loss did not improve from 0.61966\n",
      "WARNING:tensorflow:Early stopping conditioned on metric `val_acc` which is not available. Available metrics are: loss,accuracy,val_loss,val_accuracy,lr\n",
      "Epoch 87/100\n",
      "9/9 [==============================] - 107s 12s/step - loss: 0.7932 - accuracy: 0.6990 - val_loss: 0.7807 - val_accuracy: 0.6875\n",
      "\n",
      "Epoch 00087: val_loss did not improve from 0.61966\n",
      "WARNING:tensorflow:Early stopping conditioned on metric `val_acc` which is not available. Available metrics are: loss,accuracy,val_loss,val_accuracy,lr\n",
      "Epoch 88/100\n",
      "9/9 [==============================] - 107s 12s/step - loss: 0.8192 - accuracy: 0.6713 - val_loss: 0.8080 - val_accuracy: 0.6250\n",
      "\n",
      "Epoch 00088: val_loss did not improve from 0.61966\n",
      "WARNING:tensorflow:Early stopping conditioned on metric `val_acc` which is not available. Available metrics are: loss,accuracy,val_loss,val_accuracy,lr\n",
      "Epoch 89/100\n",
      "9/9 [==============================] - 107s 12s/step - loss: 0.7976 - accuracy: 0.6943 - val_loss: 0.7118 - val_accuracy: 0.6875\n",
      "\n",
      "Epoch 00089: val_loss did not improve from 0.61966\n",
      "WARNING:tensorflow:Early stopping conditioned on metric `val_acc` which is not available. Available metrics are: loss,accuracy,val_loss,val_accuracy,lr\n",
      "Epoch 90/100\n",
      "9/9 [==============================] - 107s 12s/step - loss: 0.8303 - accuracy: 0.6671 - val_loss: 1.0701 - val_accuracy: 0.5000\n",
      "\n",
      "Epoch 00090: val_loss did not improve from 0.61966\n",
      "WARNING:tensorflow:Early stopping conditioned on metric `val_acc` which is not available. Available metrics are: loss,accuracy,val_loss,val_accuracy,lr\n",
      "Epoch 91/100\n",
      "9/9 [==============================] - 106s 12s/step - loss: 0.7579 - accuracy: 0.6944 - val_loss: 0.7142 - val_accuracy: 0.7188\n",
      "\n",
      "Epoch 00091: val_loss did not improve from 0.61966\n",
      "WARNING:tensorflow:Early stopping conditioned on metric `val_acc` which is not available. Available metrics are: loss,accuracy,val_loss,val_accuracy,lr\n",
      "Epoch 92/100\n",
      "9/9 [==============================] - 106s 12s/step - loss: 0.8114 - accuracy: 0.6974 - val_loss: 0.8148 - val_accuracy: 0.6875\n",
      "\n",
      "Epoch 00092: val_loss did not improve from 0.61966\n",
      "WARNING:tensorflow:Early stopping conditioned on metric `val_acc` which is not available. Available metrics are: loss,accuracy,val_loss,val_accuracy,lr\n",
      "Epoch 93/100\n",
      "9/9 [==============================] - 107s 12s/step - loss: 0.8676 - accuracy: 0.6341 - val_loss: 0.8079 - val_accuracy: 0.6250\n",
      "\n",
      "Epoch 00093: val_loss did not improve from 0.61966\n",
      "WARNING:tensorflow:Early stopping conditioned on metric `val_acc` which is not available. Available metrics are: loss,accuracy,val_loss,val_accuracy,lr\n",
      "Epoch 94/100\n",
      "9/9 [==============================] - 108s 12s/step - loss: 0.8711 - accuracy: 0.6419 - val_loss: 0.9146 - val_accuracy: 0.6562\n",
      "\n",
      "Epoch 00094: val_loss did not improve from 0.61966\n",
      "WARNING:tensorflow:Early stopping conditioned on metric `val_acc` which is not available. Available metrics are: loss,accuracy,val_loss,val_accuracy,lr\n",
      "Epoch 95/100\n",
      "9/9 [==============================] - 106s 12s/step - loss: 0.8537 - accuracy: 0.6671 - val_loss: 0.6535 - val_accuracy: 0.7812\n",
      "\n",
      "Epoch 00095: val_loss did not improve from 0.61966\n",
      "WARNING:tensorflow:Early stopping conditioned on metric `val_acc` which is not available. Available metrics are: loss,accuracy,val_loss,val_accuracy,lr\n",
      "Epoch 96/100\n",
      "9/9 [==============================] - 106s 12s/step - loss: 0.8467 - accuracy: 0.6280 - val_loss: 0.6884 - val_accuracy: 0.7812\n",
      "\n",
      "Epoch 00096: val_loss did not improve from 0.61966\n",
      "WARNING:tensorflow:Early stopping conditioned on metric `val_acc` which is not available. Available metrics are: loss,accuracy,val_loss,val_accuracy,lr\n"
     ]
    },
    {
     "name": "stdout",
     "output_type": "stream",
     "text": [
      "Epoch 97/100\n",
      "9/9 [==============================] - 106s 12s/step - loss: 0.8063 - accuracy: 0.6728 - val_loss: 0.6274 - val_accuracy: 0.8438\n",
      "\n",
      "Epoch 00097: val_loss did not improve from 0.61966\n",
      "WARNING:tensorflow:Early stopping conditioned on metric `val_acc` which is not available. Available metrics are: loss,accuracy,val_loss,val_accuracy,lr\n",
      "Epoch 98/100\n",
      "9/9 [==============================] - 106s 12s/step - loss: 0.8723 - accuracy: 0.6598 - val_loss: 0.9067 - val_accuracy: 0.5938\n",
      "\n",
      "Epoch 00098: val_loss did not improve from 0.61966\n",
      "WARNING:tensorflow:Early stopping conditioned on metric `val_acc` which is not available. Available metrics are: loss,accuracy,val_loss,val_accuracy,lr\n",
      "Epoch 99/100\n",
      "9/9 [==============================] - 106s 12s/step - loss: 0.8420 - accuracy: 0.6717 - val_loss: 0.8179 - val_accuracy: 0.7188\n",
      "\n",
      "Epoch 00099: val_loss did not improve from 0.61966\n",
      "WARNING:tensorflow:Early stopping conditioned on metric `val_acc` which is not available. Available metrics are: loss,accuracy,val_loss,val_accuracy,lr\n",
      "Epoch 100/100\n",
      "9/9 [==============================] - 107s 12s/step - loss: 0.7816 - accuracy: 0.7190 - val_loss: 0.8732 - val_accuracy: 0.5938\n",
      "\n",
      "Epoch 00100: val_loss did not improve from 0.61966\n",
      "WARNING:tensorflow:Early stopping conditioned on metric `val_acc` which is not available. Available metrics are: loss,accuracy,val_loss,val_accuracy,lr\n"
     ]
    }
   ],
   "source": [
    "hist = model.fit_generator(\n",
    "    train_generator,\n",
    "    epochs=epochs,\n",
    "    callbacks=[annealer,mc,es],\n",
    "    steps_per_epoch=stepsperepoch,\n",
    "    validation_data=validation_generator,\n",
    "    validation_steps = validationsteps\n",
    ")\n"
   ]
  },
  {
   "cell_type": "code",
   "execution_count": null,
   "metadata": {
    "execution": {
     "iopub.execute_input": "2021-01-25T06:22:09.118573Z",
     "iopub.status.busy": "2021-01-25T06:22:09.116831Z",
     "iopub.status.idle": "2021-01-25T06:28:25.574105Z",
     "shell.execute_reply": "2021-01-25T06:28:25.573346Z"
    },
    "papermill": {
     "duration": 376.86568,
     "end_time": "2021-01-25T06:28:25.574245",
     "exception": false,
     "start_time": "2021-01-25T06:22:08.708565",
     "status": "completed"
    },
    "tags": []
   },
   "outputs": [
    {
     "name": "stdout",
     "output_type": "stream",
     "text": [
      "35/41 [========================>.....] - ETA: 17s - loss: 0.8345 - accuracy: 0.6625"
     ]
    }
   ],
   "source": [
    "preds = model.evaluate(validation_generator)\n",
    "print (\"Validation Loss = \" + str(preds[0]))\n",
    "print (\"Validation Accuracy = \" + str(preds[1]))"
   ]
  },
  {
   "cell_type": "code",
   "execution_count": 15,
   "metadata": {
    "execution": {
     "iopub.execute_input": "2021-01-25T06:28:26.392142Z",
     "iopub.status.busy": "2021-01-25T06:28:26.381717Z",
     "iopub.status.idle": "2021-01-25T06:28:27.217961Z",
     "shell.execute_reply": "2021-01-25T06:28:27.217368Z"
    },
    "papermill": {
     "duration": 1.242588,
     "end_time": "2021-01-25T06:28:27.218076",
     "exception": false,
     "start_time": "2021-01-25T06:28:25.975488",
     "status": "completed"
    },
    "tags": []
   },
   "outputs": [
    {
     "data": {
      "image/png": "[encoded data removed]",
      "text/plain": [
       "<Figure size 432x288 with 1 Axes>"
      ]
     },
     "metadata": {
      "needs_background": "light"
     },
     "output_type": "display_data"
    },
    {
     "data": {
      "image/png": "[encoded data removed]",
      "text/plain": [
       "<Figure size 432x288 with 1 Axes>"
      ]
     },
     "metadata": {
      "needs_background": "light"
     },
     "output_type": "display_data"
    }
   ],
   "source": [
    "\n",
    "\n",
    "plt.plot(hist.history['accuracy'])\n",
    "plt.plot(hist.history['val_accuracy'])\n",
    "plt.title('Model Accuracy')\n",
    "plt.ylabel('Accuracy')\n",
    "plt.xlabel('Epoch')\n",
    "plt.legend([\"Train_acc\",\"Validation_acc\"])\n",
    "plt.show()\n",
    "\n",
    "plt.plot(hist.history['loss'])\n",
    "plt.plot(hist.history['val_loss'])\n",
    "plt.title('Model Loss')\n",
    "plt.ylabel('Loss')\n",
    "plt.xlabel('Epoch')\n",
    "plt.legend([\"Train_loss\",\"Validation Loss\"])\n",
    "plt.show()\n",
    "\n"
   ]
  }
 ],
 "metadata": {
  "kernelspec": {
   "display_name": "Python 3",
   "language": "python",
   "name": "python3"
  },
  "language_info": {
   "codemirror_mode": {
    "name": "ipython",
    "version": 3
   },
   "file_extension": ".py",
   "mimetype": "text/x-python",
   "name": "python",
   "nbconvert_exporter": "python",
   "pygments_lexer": "ipython3",
   "version": "3.8.5"
  },
  "papermill": {
   "duration": 30088.046855,
   "end_time": "2021-01-25T06:28:27.837402",
   "environment_variables": {},
   "exception": null,
   "input_path": "__notebook__.ipynb",
   "output_path": "__notebook__.ipynb",
   "parameters": {},
   "start_time": "2021-01-24T22:06:59.790547",
   "version": "2.1.0"
  }
 },
 "nbformat": 4,
 "nbformat_minor": 4
}
