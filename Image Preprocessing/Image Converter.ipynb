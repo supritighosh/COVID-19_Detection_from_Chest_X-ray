{
 "cells": [
  {
   "cell_type": "code",
   "execution_count": 2,
   "metadata": {},
   "outputs": [],
   "source": [
    "from pathlib import Path\n",
    "from PIL import Image\n"
   ]
  },
  {
   "cell_type": "code",
   "execution_count": 5,
   "metadata": {},
   "outputs": [],
   "source": [
    "inputPath = Path(\"./Normal\")\n",
    "inputFiles = inputPath.glob(\"**/*.jpg\")\n",
    "outputPath = Path(\"./Norm-png\")\n",
    "for f in inputFiles:\n",
    "    outputFile = outputPath / Path(f.stem + \".png\")\n",
    "    im = Image.open(f)\n",
    "    im.save(outputFile)"
   ]
  }
 ],
 "metadata": {
  "kernelspec": {
   "display_name": "Python 3",
   "language": "python",
   "name": "python3"
  },
  "language_info": {
   "codemirror_mode": {
    "name": "ipython",
    "version": 3
   },
   "file_extension": ".py",
   "mimetype": "text/x-python",
   "name": "python",
   "nbconvert_exporter": "python",
   "pygments_lexer": "ipython3",
   "version": "3.8.8"
  }
 },
 "nbformat": 4,
 "nbformat_minor": 4
}
